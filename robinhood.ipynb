{
 "cells": [
  {
   "cell_type": "code",
   "execution_count": 13,
   "metadata": {},
   "outputs": [],
   "source": [
    "import robin_stocks.robinhood as r \n",
    "import pandas as pd\n",
    "import time\n",
    "from getpass import getpass"
   ]
  },
  {
   "attachments": {},
   "cell_type": "markdown",
   "metadata": {},
   "source": [
    " Setting up Robinhood"
   ]
  },
  {
   "cell_type": "code",
   "execution_count": 14,
   "metadata": {},
   "outputs": [],
   "source": [
    "username = 'benaltman1@gmail.com'\n",
    "password = getpass()\n",
    "\n",
    "login = r.login(username,password)"
   ]
  },
  {
   "cell_type": "code",
   "execution_count": 15,
   "metadata": {},
   "outputs": [
    {
     "data": {
      "text/plain": [
       "{'BABA': {'price': '84.970000',\n",
       "  'quantity': '4.96919200',\n",
       "  'average_buy_price': '100.6200',\n",
       "  'equity': '422.23',\n",
       "  'percent_change': '-15.55',\n",
       "  'intraday_percent_change': '0.00',\n",
       "  'equity_change': '-77.767855',\n",
       "  'type': 'adr',\n",
       "  'name': 'Alibaba',\n",
       "  'id': 'b2e06903-5c44-46a4-bd42-2a696f9d68e1',\n",
       "  'pe_ratio': '21.546400',\n",
       "  'percentage': '25.72'},\n",
       " 'MRNA': {'price': '118.680000',\n",
       "  'quantity': '1.25000400',\n",
       "  'average_buy_price': '159.9995',\n",
       "  'equity': '148.35',\n",
       "  'percent_change': '-25.82',\n",
       "  'intraday_percent_change': '0.00',\n",
       "  'equity_change': '-51.649540',\n",
       "  'type': 'stock',\n",
       "  'name': 'Moderna',\n",
       "  'id': '8b760bb0-106d-41ee-a1d5-618236320dd2',\n",
       "  'pe_ratio': '10.397600',\n",
       "  'percentage': '9.04'},\n",
       " 'LYSDY': {'price': '4.755000',\n",
       "  'quantity': '71.00000000',\n",
       "  'average_buy_price': '6.7800',\n",
       "  'equity': '337.61',\n",
       "  'percent_change': '-29.87',\n",
       "  'intraday_percent_change': '0.00',\n",
       "  'equity_change': '-143.775000',\n",
       "  'type': 'adr',\n",
       "  'name': 'Lynas Rare Earths',\n",
       "  'id': '5b647722-7393-4148-8694-f8af79ae8ac6',\n",
       "  'pe_ratio': '11.561200',\n",
       "  'percentage': '20.57'},\n",
       " 'RDHL': {'price': '1.700000',\n",
       "  'quantity': '0.10000000',\n",
       "  'average_buy_price': '241.8000',\n",
       "  'equity': '0.17',\n",
       "  'percent_change': '-99.30',\n",
       "  'intraday_percent_change': '0.00',\n",
       "  'equity_change': '-24.010000',\n",
       "  'type': 'adr',\n",
       "  'name': 'Redhill Biopharma',\n",
       "  'id': '3aa3ec03-37ef-4cb0-a457-1d4ffdc9d7f3',\n",
       "  'pe_ratio': '-0.150000',\n",
       "  'percentage': '0.01'},\n",
       " 'SJIM': {'price': '22.909200',\n",
       "  'quantity': '32.00000000',\n",
       "  'average_buy_price': '24.3000',\n",
       "  'equity': '733.09',\n",
       "  'percent_change': '-5.72',\n",
       "  'intraday_percent_change': '0.00',\n",
       "  'equity_change': '-44.505600',\n",
       "  'type': 'etp',\n",
       "  'name': 'Inverse Cramer Tracker ETF',\n",
       "  'id': 'e063a0df-cad9-499b-96d5-688f75bf62ee',\n",
       "  'pe_ratio': '11.869732',\n",
       "  'percentage': '44.66'}}"
      ]
     },
     "execution_count": 15,
     "metadata": {},
     "output_type": "execute_result"
    }
   ],
   "source": [
    "r.build_holdings()"
   ]
  },
  {
   "attachments": {},
   "cell_type": "markdown",
   "metadata": {},
   "source": [
    " Historical Visualization"
   ]
  },
  {
   "cell_type": "code",
   "execution_count": 16,
   "metadata": {},
   "outputs": [],
   "source": [
    "def extract_list():\n",
    "    ticker_list = list(r.build_holdings().keys())\n",
    "    return ticker_list\n",
    "\n",
    "def visualize_price(ticker_list, span = 'year', bounds = 'regular'):    \n",
    "    for t in range(len(ticker_list)):\n",
    "        name = str(r.get_name_by_symbol(ticker_list[t]))\n",
    "        hist = r.stocks.get_historicals(ticker_list[t], span=span, bounds=bounds)\n",
    "        hist_df = pd.DataFrame()\n",
    "        for i in range(len(hist)):\n",
    "            df = pd.DataFrame(hist[i], index = [i])\n",
    "            hist_df = pd.concat([hist_df,df])\n",
    "        hist_df.begins_at = pd.to_datetime(hist_df.begins_at, infer_datetime_format=True)\n",
    "        hist_df.open_price = hist_df.open_price.astype('float32')\n",
    "        hist_df.close_price = hist_df.close_price.astype('float32')\n",
    "        hist_df.high_price = hist_df.high_price.astype('float32')\n",
    "        hist_df.low_price = hist_df.low_price.astype('float32')\n",
    "\n",
    "        ax = hist_df.plot(x = 'begins_at', y = 'open_price', figsize = (16,8))\n",
    "        ax.fill_between(hist_df.begins_at, hist_df.low_price, hist_df.high_price, alpha=0.5)\n",
    "        ax.set_xlabel('Date')\n",
    "        ax.set_ylabel('Price (USD)')\n",
    "        ax.legend([ticker_list[t]])\n",
    "        ax.set_title(name)"
   ]
  },
  {
   "cell_type": "code",
   "execution_count": 17,
   "metadata": {},
   "outputs": [
    {
     "ename": "AttributeError",
     "evalue": "module 'robin_stocks.robinhood.stocks' has no attribute 'get_historicals'",
     "output_type": "error",
     "traceback": [
      "\u001b[1;31m---------------------------------------------------------------------------\u001b[0m",
      "\u001b[1;31mAttributeError\u001b[0m                            Traceback (most recent call last)",
      "Cell \u001b[1;32mIn[17], line 2\u001b[0m\n\u001b[0;32m      1\u001b[0m ticker_list \u001b[39m=\u001b[39m extract_list()\n\u001b[1;32m----> 2\u001b[0m visualize_price(ticker_list, span \u001b[39m=\u001b[39;49m \u001b[39m'\u001b[39;49m\u001b[39myear\u001b[39;49m\u001b[39m'\u001b[39;49m, bounds \u001b[39m=\u001b[39;49m \u001b[39m'\u001b[39;49m\u001b[39mregular\u001b[39;49m\u001b[39m'\u001b[39;49m)\n",
      "Cell \u001b[1;32mIn[16], line 8\u001b[0m, in \u001b[0;36mvisualize_price\u001b[1;34m(ticker_list, span, bounds)\u001b[0m\n\u001b[0;32m      6\u001b[0m \u001b[39mfor\u001b[39;00m t \u001b[39min\u001b[39;00m \u001b[39mrange\u001b[39m(\u001b[39mlen\u001b[39m(ticker_list)):\n\u001b[0;32m      7\u001b[0m     name \u001b[39m=\u001b[39m \u001b[39mstr\u001b[39m(r\u001b[39m.\u001b[39mget_name_by_symbol(ticker_list[t]))\n\u001b[1;32m----> 8\u001b[0m     hist \u001b[39m=\u001b[39m r\u001b[39m.\u001b[39;49mstocks\u001b[39m.\u001b[39;49mget_historicals(ticker_list[t], span\u001b[39m=\u001b[39mspan, bounds\u001b[39m=\u001b[39mbounds)\n\u001b[0;32m      9\u001b[0m     hist_df \u001b[39m=\u001b[39m pd\u001b[39m.\u001b[39mDataFrame()\n\u001b[0;32m     10\u001b[0m     \u001b[39mfor\u001b[39;00m i \u001b[39min\u001b[39;00m \u001b[39mrange\u001b[39m(\u001b[39mlen\u001b[39m(hist)):\n",
      "\u001b[1;31mAttributeError\u001b[0m: module 'robin_stocks.robinhood.stocks' has no attribute 'get_historicals'"
     ]
    }
   ],
   "source": [
    "ticker_list = extract_list()\n",
    "#visualize_price(ticker_list, span = 'year', bounds = 'regular')"
   ]
  },
  {
   "attachments": {},
   "cell_type": "markdown",
   "metadata": {},
   "source": [
    " Trading Bot"
   ]
  },
  {
   "cell_type": "code",
   "execution_count": null,
   "metadata": {},
   "outputs": [],
   "source": [
    "def trading_bot(trading_dict):\n",
    "    holdings = r.build_holdings()\n",
    "    holdings_df = pd.DataFrame()\n",
    "    for i in range(len(holdings)):\n",
    "        ticker = list(holdings.items())[i][0]\n",
    "        holding_df = pd.DataFrame(list(holdings.items())[i][1], index = [i])\n",
    "        holding_df['ticker'] = ticker\n",
    "        holdings_df = pd.concat([holdings_df, holding_df])\n",
    "    holdings_df = holdings_df[['ticker', 'price', 'quantity', 'percent_change','average_buy_price', 'equity', 'equity_change','pe_ratio', 'type', 'name', 'id' ]]\n",
    "\n",
    "    for j in range(len(trading_dict)):\n",
    "        holding_df = holdings_df[holdings_df.ticker == list(trading_dict.keys())[j]]\n",
    "        if holding_df['percent_change'].astype('float32')[0] <= list(trading_dict.values())[j][0]:\n",
    "            buy_string = 'Buying ' + str(holding_df['ticker'][0]) + ' at ' + time.ctime()\n",
    "            print(buy_string)\n",
    "            r.orders.order_buy_market(holding_df['ticker'][0],1,timeInForce= 'gfd')\n",
    "        else:\n",
    "            print('Nothing to buy')\n",
    "\n",
    "        if holding_df['percent_change'].astype('float32')[0] >= list(trading_dict.values())[j][1]:\n",
    "            sell_string = 'Buying ' + str(holding_df['ticker'][0]) + ' at ' + time.ctime()\n",
    "            print(sell_string)\n",
    "            r.orders.order_sell_market(holding_df['ticker'][0],1,timeInForce= 'gfd')\n",
    "        else:\n",
    "            print('Nothing to sell')   "
   ]
  },
  {
   "cell_type": "code",
   "execution_count": null,
   "metadata": {},
   "outputs": [],
   "source": [
    "trading_dict = {'KMI': [-0.50, 0.50]}\n",
    "holdings_df = trading_bot(trading_dict)"
   ]
  },
  {
   "cell_type": "code",
   "execution_count": null,
   "metadata": {},
   "outputs": [],
   "source": [
    "r.logout()"
   ]
  }
 ],
 "metadata": {
  "kernelspec": {
   "display_name": "Python 3",
   "language": "python",
   "name": "python3"
  },
  "language_info": {
   "codemirror_mode": {
    "name": "ipython",
    "version": 3
   },
   "file_extension": ".py",
   "mimetype": "text/x-python",
   "name": "python",
   "nbconvert_exporter": "python",
   "pygments_lexer": "ipython3",
   "version": "3.11.4"
  },
  "orig_nbformat": 4
 },
 "nbformat": 4,
 "nbformat_minor": 2
}
